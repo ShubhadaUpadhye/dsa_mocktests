{
 "cells": [
  {
   "cell_type": "code",
   "execution_count": null,
   "metadata": {},
   "outputs": [],
   "source": [
    "##dsa_mocktest_ans_2\n",
    "def non_occur_char(string):\n",
    "    for i in string:\n",
    "        i.lower()\n",
    "        if string.count(i)==1:\n",
    "            return(string.index(i))       \n",
    "    else:\n",
    "        return(-1)\n",
    "non_occur_char(input(\"enter input string: \"))\n",
    "      "
   ]
  }
 ],
 "metadata": {
  "kernelspec": {
   "display_name": "Python 3",
   "language": "python",
   "name": "python3"
  },
  "language_info": {
   "codemirror_mode": {
    "name": "ipython",
    "version": 3
   },
   "file_extension": ".py",
   "mimetype": "text/x-python",
   "name": "python",
   "nbconvert_exporter": "python",
   "pygments_lexer": "ipython3",
   "version": "3.8.5"
  }
 },
 "nbformat": 4,
 "nbformat_minor": 4
}
