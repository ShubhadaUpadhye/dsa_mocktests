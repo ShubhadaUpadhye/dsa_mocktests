{
 "cells": [
  {
   "cell_type": "code",
   "execution_count": null,
   "metadata": {},
   "outputs": [],
   "source": [
    "##dsa_mocktest_2_ans_1##\n",
    "def sqrt(num):\n",
    "    if num == 0:\n",
    "        return 0\n",
    "    left = 1\n",
    "    right = num\n",
    "    target = num ** 0.5\n",
    "    while left <= right:\n",
    "        mid = (left + right) // 2\n",
    "\n",
    "        if mid<=target<mid+1:\n",
    "            return mid\n",
    "\n",
    "        elif target < mid:\n",
    "            right = mid - 1\n",
    "\n",
    "        else:\n",
    "            left = mid + 1\n",
    "\n",
    "\n",
    "result = sqrt(18)\n",
    "print(result)"
   ]
  },
  {
   "cell_type": "code",
   "execution_count": null,
   "metadata": {},
   "outputs": [],
   "source": [
    "\n",
    "      "
   ]
  }
 ],
 "metadata": {
  "kernelspec": {
   "display_name": "Python 3",
   "language": "python",
   "name": "python3"
  },
  "language_info": {
   "codemirror_mode": {
    "name": "ipython",
    "version": 3
   },
   "file_extension": ".py",
   "mimetype": "text/x-python",
   "name": "python",
   "nbconvert_exporter": "python",
   "pygments_lexer": "ipython3",
   "version": "3.8.5"
  }
 },
 "nbformat": 4,
 "nbformat_minor": 4
}
