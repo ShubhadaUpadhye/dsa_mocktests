{
 "cells": [
  {
   "cell_type": "code",
   "execution_count": 26,
   "metadata": {},
   "outputs": [
    {
     "name": "stdout",
     "output_type": "stream",
     "text": [
      "[0, 1, 2, 3, 4, 5, 6, 7, 8, 9]\n",
      "[0, 1, 2, 3, 4, 5, 6, 7, 8]\n",
      "Stack is not Empty\n"
     ]
    }
   ],
   "source": [
    "### ans_1) implementation of stack using a list\n",
    "class Stackmethods():\n",
    "    def __init__(self):\n",
    "        self.stack = []\n",
    "        \n",
    "    ##pushing elements onto stack\n",
    "    def push(self):\n",
    "        for i in range(0, 10, 1):\n",
    "            self.stack.append(i)\n",
    "        return (self.stack)\n",
    "\n",
    "    ###popping elements from stack(LIFO)\n",
    "    def stack_pop(self):\n",
    "        self.stack.pop()\n",
    "        return (self.stack)\n",
    "\n",
    "\n",
    "    #####checking if stack is empty\n",
    "    def isEmpty(self):\n",
    "        if len(self.stack) == 0:\n",
    "            print(\"Stack isEmpty\")\n",
    "        else:\n",
    "            print(\"Stack is not Empty\")\n",
    "            \n",
    "obj=Stackmethods()\n",
    "print(obj.push())\n",
    "print(obj.stack_pop())\n",
    "obj.isEmpty()\n"
   ]
  }
 ],
 "metadata": {
  "kernelspec": {
   "display_name": "Python 3",
   "language": "python",
   "name": "python3"
  },
  "language_info": {
   "codemirror_mode": {
    "name": "ipython",
    "version": 3
   },
   "file_extension": ".py",
   "mimetype": "text/x-python",
   "name": "python",
   "nbconvert_exporter": "python",
   "pygments_lexer": "ipython3",
   "version": "3.8.5"
  }
 },
 "nbformat": 4,
 "nbformat_minor": 4
}
