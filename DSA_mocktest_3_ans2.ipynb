{
 "cells": [
  {
   "cell_type": "code",
   "execution_count": 32,
   "metadata": {},
   "outputs": [
    {
     "name": "stdout",
     "output_type": "stream",
     "text": [
      "[1, 3, 5, 7, 9, 11, 13, 15, 17, 19]\n",
      "[3, 5, 7, 9, 11, 13, 15, 17, 19]\n",
      "queue is not empty\n"
     ]
    }
   ],
   "source": [
    "###implementation of queue using list\n",
    "\n",
    "class Queuemethods():\n",
    "    def __init__(self):\n",
    "        self.queue = []\n",
    "\n",
    "    ###enqueueing of elements into queue\n",
    "    def enqueue(self):\n",
    "        for i in range(1, 20, 2):\n",
    "            self.queue.append(i)\n",
    "        return (self.queue)\n",
    "\n",
    "    ####dequeueing of elements from queue\n",
    "    def dequeue(self):\n",
    "        self.queue.pop(0)\n",
    "        return (self.queue)\n",
    "\n",
    "    #### checking if queue is empty\n",
    "    def empty(self):\n",
    "        if len(self.queue) == 0:\n",
    "            print(\"queue is empty\")\n",
    "        else:\n",
    "            print(\"queue is not empty\")\n",
    "\n",
    "\n",
    "obj = Queuemethods()\n",
    "print(obj.enqueue())\n",
    "print(obj.dequeue())\n",
    "obj.empty()"
   ]
  }
 ],
 "metadata": {
  "kernelspec": {
   "display_name": "Python 3",
   "language": "python",
   "name": "python3"
  },
  "language_info": {
   "codemirror_mode": {
    "name": "ipython",
    "version": 3
   },
   "file_extension": ".py",
   "mimetype": "text/x-python",
   "name": "python",
   "nbconvert_exporter": "python",
   "pygments_lexer": "ipython3",
   "version": "3.8.5"
  }
 },
 "nbformat": 4,
 "nbformat_minor": 4
}
